{
 "cells": [
  {
   "cell_type": "markdown",
   "metadata": {},
   "source": [
    "![SheLovesData](https://shelovesdata.com/wp-content/uploads/2018/06/she-loves-data-wide@2xv2.png)\n",
    "\n",
    "# Introduction to Python Programming"
   ]
  },
  {
   "cell_type": "markdown",
   "metadata": {},
   "source": [
    "***\n",
    "# Overview\n",
    "\n",
    "    0. Introduction to Jupyter Notebooks\n",
    "    1. Variables and Classes\n",
    "    2. Operators and Comparisons\n",
    "    3. If/Then Statements\n",
    "    4. Iterators\n",
    "\n",
    "****"
   ]
  },
  {
   "cell_type": "markdown",
   "metadata": {},
   "source": [
    "![hi](https://tenor.com/view/ive-never-done-this-before-first-time-sunglasses-shades-ti-gif-11603893.gif)"
   ]
  },
  {
   "cell_type": "markdown",
   "metadata": {},
   "source": [
    "## Your First Program\n",
    "\n",
    "\n",
    "\n",
    "```\n",
    "print(\"Hello World\")\n",
    "```\n",
    "\n",
    "Type the above code into the cell below and click the small **play** button to run the code\n"
   ]
  },
  {
   "cell_type": "code",
   "execution_count": null,
   "metadata": {},
   "outputs": [],
   "source": []
  },
  {
   "cell_type": "markdown",
   "metadata": {},
   "source": [
    "***"
   ]
  },
  {
   "cell_type": "markdown",
   "metadata": {},
   "source": [
    "## 1.Variables and Classes"
   ]
  },
  {
   "cell_type": "markdown",
   "metadata": {},
   "source": [
    "### 1.1 Variables\n",
    "\n",
    "\n",
    "Variables are containers for storing data values.\n",
    "A variable is created the moment you first assign a value to it and it will be stored in this container until you assign a new value to it."
   ]
  },
  {
   "cell_type": "code",
   "execution_count": 50,
   "metadata": {},
   "outputs": [],
   "source": [
    "# variable assignments\n",
    "x = 1.0\n",
    "number = 1\n",
    "words = \"Welcome to SheLovesData Workshop \"\n",
    "more_words = 'Welcome to SheLoves Data'\n",
    "more_numbers = 1/2"
   ]
  },
  {
   "cell_type": "markdown",
   "metadata": {},
   "source": [
    "Now let's `print` the result. Once you assign the variable you can access it anytime down the code\n",
    "\n",
    "*Note: you can type comments in the code, start with a `#`, and Python will ignore them*"
   ]
  },
  {
   "cell_type": "code",
   "execution_count": 42,
   "metadata": {},
   "outputs": [
    {
     "name": "stdout",
     "output_type": "stream",
     "text": [
      "1.0\n",
      "1\n",
      "Welcome to SheLovesData Workshop\n",
      "Welcome to SheLoves Data\n",
      "0.5\n"
     ]
    }
   ],
   "source": [
    "# <---- this is comment\n",
    "print(x)\n",
    "print(number)\n",
    "print(words)\n",
    "print(more_words)\n",
    "print(more_numbers)"
   ]
  },
  {
   "cell_type": "code",
   "execution_count": 43,
   "metadata": {},
   "outputs": [],
   "source": [
    "x = 9"
   ]
  },
  {
   "cell_type": "code",
   "execution_count": 45,
   "metadata": {},
   "outputs": [
    {
     "name": "stdout",
     "output_type": "stream",
     "text": [
      "9\n"
     ]
    }
   ],
   "source": [
    "print(x)"
   ]
  },
  {
   "cell_type": "markdown",
   "metadata": {},
   "source": [
    "### Task"
   ]
  },
  {
   "cell_type": "markdown",
   "metadata": {},
   "source": [
    "1.   Assign a value of your name to a new variable **`name`**\n",
    "2.   And **`print`** your name"
   ]
  },
  {
   "cell_type": "code",
   "execution_count": null,
   "metadata": {},
   "outputs": [],
   "source": []
  },
  {
   "cell_type": "markdown",
   "metadata": {},
   "source": [
    "### 1.2 Data Types\n",
    "\n",
    "\n",
    "In programming, data type is an important concept.\n",
    "\n",
    "Variables can store data of different types, and different types can do different things.\n",
    "\n",
    "Python has the following data types built-in by default, in these categories:\n",
    "\n",
    "*   **Numeric Types**:\tint, float, *complex*\n",
    "*   **Text Type**:\tstr\n",
    "*   **Boolean Type**:\tbool\n",
    "*   **Sequence Types**:\tlist, *tuple, range*\n",
    "*   **Mapping Type**:\t*dict*"
   ]
  },
  {
   "cell_type": "markdown",
   "metadata": {},
   "source": [
    "#### Numeric Types and Strings\n",
    "\n",
    "Let's check the types of our variables"
   ]
  },
  {
   "cell_type": "code",
   "execution_count": 15,
   "metadata": {},
   "outputs": [
    {
     "name": "stdout",
     "output_type": "stream",
     "text": [
      "1.0 <class 'float'>\n",
      "1 <class 'int'>\n"
     ]
    }
   ],
   "source": [
    "print(x,type(x))\n",
    "print(number, type(number))"
   ]
  },
  {
   "cell_type": "markdown",
   "metadata": {},
   "source": [
    "#### Task\n",
    "\n",
    "Check the **class** of the variable that contains your name"
   ]
  },
  {
   "cell_type": "code",
   "execution_count": null,
   "metadata": {},
   "outputs": [],
   "source": []
  },
  {
   "cell_type": "markdown",
   "metadata": {},
   "source": [
    "#### Booleans\n",
    "\n",
    "\n",
    "Booleans represent one of two values: **`True`** or **`False`**."
   ]
  },
  {
   "cell_type": "code",
   "execution_count": 21,
   "metadata": {},
   "outputs": [],
   "source": [
    "truth_value_1 = True\n",
    "truth_value_2 = 'True'\n",
    "truth_value_3 = 1"
   ]
  },
  {
   "cell_type": "code",
   "execution_count": 22,
   "metadata": {},
   "outputs": [
    {
     "name": "stdout",
     "output_type": "stream",
     "text": [
      "True\n",
      "True\n",
      "1\n"
     ]
    }
   ],
   "source": [
    "print(truth_value_1)\n",
    "print(truth_value_2)\n",
    "print(truth_value_3)"
   ]
  },
  {
   "cell_type": "code",
   "execution_count": 23,
   "metadata": {},
   "outputs": [
    {
     "name": "stdout",
     "output_type": "stream",
     "text": [
      "<class 'bool'>\n",
      "<class 'str'>\n",
      "<class 'int'>\n"
     ]
    }
   ],
   "source": [
    "print(type(truth_value_1))\n",
    "print(type(truth_value_2))\n",
    "print(type(truth_value_3))"
   ]
  },
  {
   "cell_type": "markdown",
   "metadata": {},
   "source": [
    "#### Lists\n",
    "\n",
    "\n",
    "There are several collection data types in the Python programming language, but we will cover **lists** only. \n",
    "\n",
    "*  **List** is a collection which is ordered and changeable. Allows duplicate members.\n",
    "*  **Tuple** is a collection which is ordered and unchangeable. Allows duplicate members.\n",
    "*  **Set** is a collection which is unordered and unindexed. No duplicate members.\n",
    "*  **Dictionary** is a collection which is unordered, changeable and indexed. No duplicate members.\n",
    "\n",
    "\n",
    "**Lists** are very similar to strings, except that each element can be of any type. In Python **lists** are written with square `[ ]` brackets:\n"
   ]
  },
  {
   "cell_type": "code",
   "execution_count": 32,
   "metadata": {},
   "outputs": [
    {
     "name": "stdout",
     "output_type": "stream",
     "text": [
      "['apple', 'banana', 'cherry']\n"
     ]
    }
   ],
   "source": [
    "fruits = [\"apple\", \"banana\", \"cherry\"]\n",
    "print(fruits)"
   ]
  },
  {
   "cell_type": "markdown",
   "metadata": {},
   "source": [
    "#### Task\n",
    "\n",
    "Make a new list that contains a combination of colors and your favorite number\n",
    "\n",
    "**Challenge**: Add more fruits to the list "
   ]
  },
  {
   "cell_type": "code",
   "execution_count": null,
   "metadata": {},
   "outputs": [],
   "source": []
  },
  {
   "cell_type": "code",
   "execution_count": 35,
   "metadata": {},
   "outputs": [],
   "source": [
    "fruits.append('c')"
   ]
  },
  {
   "cell_type": "code",
   "execution_count": 36,
   "metadata": {},
   "outputs": [
    {
     "data": {
      "text/plain": [
       "['apple', 'banana', 'cherry', ['c'], 'c']"
      ]
     },
     "execution_count": 36,
     "metadata": {},
     "output_type": "execute_result"
    }
   ],
   "source": [
    "fruits"
   ]
  },
  {
   "cell_type": "markdown",
   "metadata": {},
   "source": [
    "#### Iterating a list\n",
    "\n",
    "Python indicies start at 0, so when you're referring to an element in a list, consider that the first element will always be 0.\n",
    "\n",
    "To print the first element of the fruits list:"
   ]
  },
  {
   "cell_type": "code",
   "execution_count": 54,
   "metadata": {},
   "outputs": [
    {
     "name": "stdout",
     "output_type": "stream",
     "text": [
      "apple\n"
     ]
    }
   ],
   "source": [
    "print(fruits[0])"
   ]
  },
  {
   "cell_type": "markdown",
   "metadata": {},
   "source": [
    "#### Task\n",
    "\n",
    "Print the fourth element in the fruits list"
   ]
  },
  {
   "cell_type": "code",
   "execution_count": null,
   "metadata": {},
   "outputs": [],
   "source": []
  },
  {
   "cell_type": "markdown",
   "metadata": {},
   "source": [
    "**Range of Indexes**\n",
    "You can specify a range of indexes by specifying where to start and where to end the range. The range is NON-INCLUSIVE.\n",
    "\n",
    "list [ start : end (non-inclusive ]"
   ]
  },
  {
   "cell_type": "code",
   "execution_count": 55,
   "metadata": {},
   "outputs": [
    {
     "name": "stdout",
     "output_type": "stream",
     "text": [
      "['cherry', ['c'], 'c']\n"
     ]
    }
   ],
   "source": [
    "print(fruits[2:5])"
   ]
  },
  {
   "cell_type": "code",
   "execution_count": 56,
   "metadata": {},
   "outputs": [
    {
     "name": "stdout",
     "output_type": "stream",
     "text": [
      "['apple', 'banana', 'cherry', ['c'], 'c']\n"
     ]
    }
   ],
   "source": [
    "# try this code\n",
    "print(fruits[:5])   # [:5] means everything before 5th element"
   ]
  },
  {
   "cell_type": "markdown",
   "metadata": {},
   "source": [
    "***"
   ]
  },
  {
   "cell_type": "markdown",
   "metadata": {},
   "source": [
    "## 2. Operators and comparisons"
   ]
  },
  {
   "cell_type": "markdown",
   "metadata": {},
   "source": [
    "Most operators and comparisons in Python work as we would expect:\n",
    "\n",
    "#### Arithmetic operators:\n",
    "<table><thead>\n",
    "<tr>\n",
    "<th style=\"text-align: center\">Operator</th>\n",
    "<th>What it means</th>\n",
    "</tr>\n",
    "</thead><tbody>\n",
    "<tr>\n",
    "<td style=\"text-align: center\">+</td>\n",
    "<td>Addition</td>\n",
    "</tr>\n",
    "<tr>\n",
    "<td style=\"text-align: center\">-</td>\n",
    "<td>Subtraction</td>\n",
    "</tr>\n",
    "<tr>\n",
    "<td style=\"text-align: center\">*</td>\n",
    "<td>Multiplication</td>\n",
    "</tr>\n",
    "<tr>\n",
    "<td style=\"text-align: center\">/</td>\n",
    "<td>Division</td>\n",
    "</tr>\n",
    "<tr>\n",
    "<td style=\"text-align: center\">**</td>\n",
    "<td>Exponentiation</td>\n",
    "</tr>\n",
    "<tr>\n",
    "</tbody></table>"
   ]
  },
  {
   "cell_type": "code",
   "execution_count": 46,
   "metadata": {},
   "outputs": [
    {
     "name": "stdout",
     "output_type": "stream",
     "text": [
      "5\n"
     ]
    }
   ],
   "source": [
    "# Addition\n",
    "x = 2\n",
    "y = 3\n",
    "print(x+y)"
   ]
  },
  {
   "cell_type": "code",
   "execution_count": 47,
   "metadata": {},
   "outputs": [
    {
     "name": "stdout",
     "output_type": "stream",
     "text": [
      "8\n"
     ]
    }
   ],
   "source": [
    "# Note! The power operators in python isn't ^, but **\n",
    "\n",
    "print(x**y)"
   ]
  },
  {
   "cell_type": "markdown",
   "metadata": {},
   "source": [
    "### Task\n",
    "\n",
    "Try a different operation."
   ]
  },
  {
   "cell_type": "code",
   "execution_count": null,
   "metadata": {},
   "outputs": [],
   "source": []
  },
  {
   "cell_type": "markdown",
   "metadata": {},
   "source": [
    "You can even add two **`strings`**"
   ]
  },
  {
   "cell_type": "code",
   "execution_count": 51,
   "metadata": {},
   "outputs": [
    {
     "name": "stdout",
     "output_type": "stream",
     "text": [
      "Welcome to SheLovesData Workshop Sarah\n"
     ]
    }
   ],
   "source": [
    "print(words + \"Sarah\")"
   ]
  },
  {
   "cell_type": "markdown",
   "metadata": {},
   "source": [
    "![Woah](https://tenor.com/view/parks-and-rec-andy-dwyer-chris-pratt-jaw-drop-shocked-gif-4421172.gif)"
   ]
  },
  {
   "cell_type": "markdown",
   "metadata": {},
   "source": [
    "#### Comparison operators\n",
    "\n",
    "In programming you often need to know if an expression is **`True`** or **`False`**.\n",
    "\n",
    "You can evaluate any expression in Python, and get one of two answers, **`True`** or **`False`**.\n",
    "\n",
    "When you compare two values, the expression is evaluated and Python returns the Boolean answer:\n",
    "\n",
    " <table><thead>\n",
    "<tr>\n",
    "<th style=\"text-align: center\">Operator</th>\n",
    "<th>What it means</th>\n",
    "</tr>\n",
    "</thead><tbody>\n",
    "<tr>\n",
    "<td style=\"text-align: center\">==</td>\n",
    "<td>Equal to</td>\n",
    "</tr>\n",
    "<tr>\n",
    "<td style=\"text-align: center\">!=</td>\n",
    "<td>Not equal to</td>\n",
    "</tr>\n",
    "<tr>\n",
    "<td style=\"text-align: center\">&lt;</td>\n",
    "<td>Less than</td>\n",
    "</tr>\n",
    "<tr>\n",
    "<td style=\"text-align: center\">&gt;</td>\n",
    "<td>Greater than</td>\n",
    "</tr>\n",
    "<tr>\n",
    "<td style=\"text-align: center\">&lt;=</td>\n",
    "<td>Less than or equal to</td>\n",
    "</tr>\n",
    "<tr>\n",
    "<td style=\"text-align: center\">&gt;=</td>\n",
    "<td>Greater than or equal to</td>\n",
    "</tr>\n",
    "</tbody></table>"
   ]
  },
  {
   "cell_type": "code",
   "execution_count": 52,
   "metadata": {},
   "outputs": [
    {
     "name": "stdout",
     "output_type": "stream",
     "text": [
      "True\n",
      "False\n",
      "False\n"
     ]
    }
   ],
   "source": [
    "print(10 > 9)\n",
    "print(10 == 9) # make sure you use == instead =\n",
    "print(10 < 9)"
   ]
  },
  {
   "cell_type": "markdown",
   "metadata": {},
   "source": [
    "#### Task\n",
    "\n",
    "Create a new variable **`my_age`** and assign the value of your age. \n",
    "\n",
    "Check using operator if you are **18 or over**. "
   ]
  },
  {
   "cell_type": "code",
   "execution_count": null,
   "metadata": {},
   "outputs": [],
   "source": []
  },
  {
   "cell_type": "markdown",
   "metadata": {},
   "source": [
    "***"
   ]
  },
  {
   "cell_type": "markdown",
   "metadata": {},
   "source": [
    "## 3. If/Then Statements"
   ]
  },
  {
   "cell_type": "markdown",
   "metadata": {},
   "source": [
    "![](https://data36.com/wp-content/uploads/2018/01/1-Python-if-statement-logic-1024x499.png)"
   ]
  },
  {
   "cell_type": "markdown",
   "metadata": {},
   "source": [
    "![check](https://data36.com/wp-content/uploads/2018/01/Python-if-statement-example.png)"
   ]
  },
  {
   "cell_type": "markdown",
   "metadata": {},
   "source": [
    "Things to note:\n",
    "\n",
    "    1. IF then conditional statement\n",
    "    2. Colon to specify the end of the conditional statment\n",
    "    3. Indentation before the executable\n",
    "    "
   ]
  },
  {
   "cell_type": "code",
   "execution_count": 66,
   "metadata": {},
   "outputs": [],
   "source": [
    "my_age = 24"
   ]
  },
  {
   "cell_type": "code",
   "execution_count": 67,
   "metadata": {},
   "outputs": [
    {
     "name": "stdout",
     "output_type": "stream",
     "text": [
      "Enjoy your beer!\n"
     ]
    }
   ],
   "source": [
    "# check if you are over 21\n",
    "if my_age >= 21:\n",
    "    print (\"Enjoy your beer!\")"
   ]
  },
  {
   "cell_type": "markdown",
   "metadata": {},
   "source": [
    "The **`elif`** keyword is python's way of saying *if the previous conditions were not true, then try this condition*."
   ]
  },
  {
   "cell_type": "code",
   "execution_count": 68,
   "metadata": {},
   "outputs": [
    {
     "name": "stdout",
     "output_type": "stream",
     "text": [
      "\n"
     ]
    }
   ],
   "source": [
    "if my_age > 21:\n",
    "    text = \"Enjoy your beer!\" \n",
    "elif my_age    : # <--- edit the code in order to check if age is equal to 21\n",
    "    text = \"Free beer for you!\"\n",
    "\n",
    "print () # <--- edit the code in order to print the message "
   ]
  },
  {
   "cell_type": "code",
   "execution_count": 69,
   "metadata": {},
   "outputs": [
    {
     "name": "stdout",
     "output_type": "stream",
     "text": [
      "\n"
     ]
    }
   ],
   "source": [
    "if my_age > 21:\n",
    "    text = \"Enjoy your beer!\" \n",
    "elif my_age     :     # <--- edit the code so that program gives appropriate message\n",
    "    text = \"You are 21! Free beer for you!\"\n",
    "else:\n",
    "    text = \"\" # <--- edit the code so that program gives appropriate message\n",
    "\n",
    "print ()   # <--- edit the code in order to print the message "
   ]
  },
  {
   "cell_type": "markdown",
   "metadata": {},
   "source": [
    "***"
   ]
  },
  {
   "cell_type": "markdown",
   "metadata": {},
   "source": [
    "## 4. Iterators"
   ]
  },
  {
   "cell_type": "markdown",
   "metadata": {},
   "source": [
    "In Python, loops can be programmed in a number of different ways. The most common is the `for` loop, which is used together with iterable objects, such as lists. The basic syntax is:"
   ]
  },
  {
   "cell_type": "markdown",
   "metadata": {},
   "source": [
    "![loops](https://www.learnbyexample.org/wp-content/uploads/python/Python-for-Loop-Syntax.png)"
   ]
  },
  {
   "cell_type": "markdown",
   "metadata": {},
   "source": [
    "### `for` Loop"
   ]
  },
  {
   "cell_type": "code",
   "execution_count": 71,
   "metadata": {},
   "outputs": [
    {
     "name": "stdout",
     "output_type": "stream",
     "text": [
      "number: 1\n",
      "number: 2\n",
      "number: 3\n",
      "number: 4\n",
      "number: 5\n"
     ]
    }
   ],
   "source": [
    "numbers = [1,2,3,4,5]\n",
    "for x in numbers:\n",
    "    print(\"number:\", x)"
   ]
  },
  {
   "cell_type": "markdown",
   "metadata": {},
   "source": [
    "Or an alternative..."
   ]
  },
  {
   "cell_type": "code",
   "execution_count": 74,
   "metadata": {},
   "outputs": [
    {
     "name": "stdout",
     "output_type": "stream",
     "text": [
      "number: 1\n",
      "number: 2\n",
      "number: 3\n",
      "number: 4\n",
      "number: 5\n"
     ]
    }
   ],
   "source": [
    "for x in range(1,6): ## again remember non-inclusive!\n",
    "    print(\"number:\", x)"
   ]
  },
  {
   "cell_type": "markdown",
   "metadata": {},
   "source": [
    "### Task\n",
    "Print our fruits one at a time"
   ]
  },
  {
   "cell_type": "code",
   "execution_count": null,
   "metadata": {},
   "outputs": [],
   "source": []
  },
  {
   "cell_type": "markdown",
   "metadata": {},
   "source": [
    "**Operations with loops**\n",
    "\n",
    "We can even do operations with the help of loops. Let's add **`10`** to each **`x`** in **`numbers`**"
   ]
  },
  {
   "cell_type": "code",
   "execution_count": 75,
   "metadata": {},
   "outputs": [
    {
     "name": "stdout",
     "output_type": "stream",
     "text": [
      "new number: 11\n",
      "new number: 12\n",
      "new number: 13\n",
      "new number: 14\n",
      "new number: 15\n"
     ]
    }
   ],
   "source": [
    "for x in numbers:\n",
    "    y = x+10\n",
    "    print(\"new number:\", y)"
   ]
  },
  {
   "cell_type": "markdown",
   "metadata": {},
   "source": [
    "### `while` Loop"
   ]
  },
  {
   "cell_type": "markdown",
   "metadata": {},
   "source": [
    "With the **`while`** loop we can execute a set of statements as long as a condition is **`True`**. The **`while`** loop requires relevant variables to be ready, in the example below we need to define an indexing variable, **`i`**, which we set to **`1`**."
   ]
  },
  {
   "cell_type": "code",
   "execution_count": 78,
   "metadata": {},
   "outputs": [
    {
     "name": "stdout",
     "output_type": "stream",
     "text": [
      "1\n",
      "2\n",
      "3\n",
      "4\n",
      "5\n",
      "6\n",
      "7\n",
      "8\n",
      "9\n",
      "10\n",
      "done\n"
     ]
    }
   ],
   "source": [
    "i = 1\n",
    "while i <= 10:\n",
    "    print(i)\n",
    "    i = i + 1\n",
    "    \n",
    "print(\"done\")"
   ]
  },
  {
   "cell_type": "markdown",
   "metadata": {},
   "source": [
    "***"
   ]
  },
  {
   "cell_type": "markdown",
   "metadata": {},
   "source": [
    "## Putting it all together!"
   ]
  },
  {
   "cell_type": "markdown",
   "metadata": {},
   "source": [
    "Develop the code for a game against a computer for Rock, Paper, Scissors"
   ]
  },
  {
   "cell_type": "code",
   "execution_count": null,
   "metadata": {},
   "outputs": [],
   "source": []
  }
 ],
 "metadata": {
  "kernelspec": {
   "display_name": "Python 3",
   "language": "python",
   "name": "python3"
  },
  "language_info": {
   "codemirror_mode": {
    "name": "ipython",
    "version": 3
   },
   "file_extension": ".py",
   "mimetype": "text/x-python",
   "name": "python",
   "nbconvert_exporter": "python",
   "pygments_lexer": "ipython3",
   "version": "3.7.4"
  }
 },
 "nbformat": 4,
 "nbformat_minor": 2
}

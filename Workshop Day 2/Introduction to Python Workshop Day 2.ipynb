{
 "cells": [
  {
   "cell_type": "code",
   "execution_count": null,
   "metadata": {},
   "outputs": [],
   "source": []
  },
  {
   "cell_type": "code",
   "execution_count": 1,
   "metadata": {},
   "outputs": [],
   "source": [
    "import pandas as pd\n",
    "import matplotlib.pyplot as plt\n",
    "import seaborn"
   ]
  },
  {
   "cell_type": "code",
   "execution_count": 2,
   "metadata": {},
   "outputs": [],
   "source": [
    "data = pd.read_csv('top_women_chess_players_aug_2020.csv')"
   ]
  },
  {
   "cell_type": "code",
   "execution_count": 3,
   "metadata": {},
   "outputs": [
    {
     "data": {
      "text/html": [
       "<div>\n",
       "<style scoped>\n",
       "    .dataframe tbody tr th:only-of-type {\n",
       "        vertical-align: middle;\n",
       "    }\n",
       "\n",
       "    .dataframe tbody tr th {\n",
       "        vertical-align: top;\n",
       "    }\n",
       "\n",
       "    .dataframe thead th {\n",
       "        text-align: right;\n",
       "    }\n",
       "</style>\n",
       "<table border=\"1\" class=\"dataframe\">\n",
       "  <thead>\n",
       "    <tr style=\"text-align: right;\">\n",
       "      <th></th>\n",
       "      <th>Fide id</th>\n",
       "      <th>Name</th>\n",
       "      <th>Federation</th>\n",
       "      <th>Gender</th>\n",
       "      <th>Year_of_birth</th>\n",
       "      <th>Title</th>\n",
       "      <th>Standard_Rating</th>\n",
       "      <th>Rapid_rating</th>\n",
       "      <th>Blitz_rating</th>\n",
       "      <th>Inactive_flag</th>\n",
       "    </tr>\n",
       "  </thead>\n",
       "  <tbody>\n",
       "    <tr>\n",
       "      <th>0</th>\n",
       "      <td>700070</td>\n",
       "      <td>Polgar, Judit</td>\n",
       "      <td>HUN</td>\n",
       "      <td>F</td>\n",
       "      <td>1976.0</td>\n",
       "      <td>GM</td>\n",
       "      <td>2675</td>\n",
       "      <td>2646.0</td>\n",
       "      <td>2736.0</td>\n",
       "      <td>wi</td>\n",
       "    </tr>\n",
       "    <tr>\n",
       "      <th>1</th>\n",
       "      <td>8602980</td>\n",
       "      <td>Hou, Yifan</td>\n",
       "      <td>CHN</td>\n",
       "      <td>F</td>\n",
       "      <td>1994.0</td>\n",
       "      <td>GM</td>\n",
       "      <td>2658</td>\n",
       "      <td>2621.0</td>\n",
       "      <td>2601.0</td>\n",
       "      <td>NaN</td>\n",
       "    </tr>\n",
       "    <tr>\n",
       "      <th>2</th>\n",
       "      <td>5008123</td>\n",
       "      <td>Koneru, Humpy</td>\n",
       "      <td>IND</td>\n",
       "      <td>F</td>\n",
       "      <td>1987.0</td>\n",
       "      <td>GM</td>\n",
       "      <td>2586</td>\n",
       "      <td>2483.0</td>\n",
       "      <td>2483.0</td>\n",
       "      <td>NaN</td>\n",
       "    </tr>\n",
       "    <tr>\n",
       "      <th>3</th>\n",
       "      <td>4147103</td>\n",
       "      <td>Goryachkina, Aleksandra</td>\n",
       "      <td>RUS</td>\n",
       "      <td>F</td>\n",
       "      <td>1998.0</td>\n",
       "      <td>GM</td>\n",
       "      <td>2582</td>\n",
       "      <td>2502.0</td>\n",
       "      <td>2441.0</td>\n",
       "      <td>NaN</td>\n",
       "    </tr>\n",
       "    <tr>\n",
       "      <th>4</th>\n",
       "      <td>700088</td>\n",
       "      <td>Polgar, Susan</td>\n",
       "      <td>HUN</td>\n",
       "      <td>F</td>\n",
       "      <td>1969.0</td>\n",
       "      <td>GM</td>\n",
       "      <td>2577</td>\n",
       "      <td>NaN</td>\n",
       "      <td>NaN</td>\n",
       "      <td>wi</td>\n",
       "    </tr>\n",
       "  </tbody>\n",
       "</table>\n",
       "</div>"
      ],
      "text/plain": [
       "   Fide id                     Name Federation Gender  Year_of_birth Title  \\\n",
       "0   700070            Polgar, Judit        HUN      F         1976.0    GM   \n",
       "1  8602980               Hou, Yifan        CHN      F         1994.0    GM   \n",
       "2  5008123            Koneru, Humpy        IND      F         1987.0    GM   \n",
       "3  4147103  Goryachkina, Aleksandra        RUS      F         1998.0    GM   \n",
       "4   700088            Polgar, Susan        HUN      F         1969.0    GM   \n",
       "\n",
       "   Standard_Rating  Rapid_rating  Blitz_rating Inactive_flag  \n",
       "0             2675        2646.0        2736.0            wi  \n",
       "1             2658        2621.0        2601.0           NaN  \n",
       "2             2586        2483.0        2483.0           NaN  \n",
       "3             2582        2502.0        2441.0           NaN  \n",
       "4             2577           NaN           NaN            wi  "
      ]
     },
     "execution_count": 3,
     "metadata": {},
     "output_type": "execute_result"
    }
   ],
   "source": [
    "data.head()"
   ]
  },
  {
   "cell_type": "code",
   "execution_count": 4,
   "metadata": {},
   "outputs": [
    {
     "data": {
      "text/html": [
       "<div>\n",
       "<style scoped>\n",
       "    .dataframe tbody tr th:only-of-type {\n",
       "        vertical-align: middle;\n",
       "    }\n",
       "\n",
       "    .dataframe tbody tr th {\n",
       "        vertical-align: top;\n",
       "    }\n",
       "\n",
       "    .dataframe thead th {\n",
       "        text-align: right;\n",
       "    }\n",
       "</style>\n",
       "<table border=\"1\" class=\"dataframe\">\n",
       "  <thead>\n",
       "    <tr style=\"text-align: right;\">\n",
       "      <th></th>\n",
       "      <th>Fide id</th>\n",
       "      <th>Year_of_birth</th>\n",
       "      <th>Standard_Rating</th>\n",
       "      <th>Rapid_rating</th>\n",
       "      <th>Blitz_rating</th>\n",
       "    </tr>\n",
       "  </thead>\n",
       "  <tbody>\n",
       "    <tr>\n",
       "      <th>count</th>\n",
       "      <td>8.553000e+03</td>\n",
       "      <td>8261.000000</td>\n",
       "      <td>8553.000000</td>\n",
       "      <td>3608.000000</td>\n",
       "      <td>3472.000000</td>\n",
       "    </tr>\n",
       "    <tr>\n",
       "      <th>mean</th>\n",
       "      <td>8.829011e+06</td>\n",
       "      <td>1985.291732</td>\n",
       "      <td>2005.102303</td>\n",
       "      <td>1931.680155</td>\n",
       "      <td>1925.155242</td>\n",
       "    </tr>\n",
       "    <tr>\n",
       "      <th>std</th>\n",
       "      <td>9.226777e+06</td>\n",
       "      <td>14.055386</td>\n",
       "      <td>137.146646</td>\n",
       "      <td>191.449272</td>\n",
       "      <td>188.556849</td>\n",
       "    </tr>\n",
       "    <tr>\n",
       "      <th>min</th>\n",
       "      <td>1.001450e+05</td>\n",
       "      <td>1920.000000</td>\n",
       "      <td>1801.000000</td>\n",
       "      <td>1224.000000</td>\n",
       "      <td>1159.000000</td>\n",
       "    </tr>\n",
       "    <tr>\n",
       "      <th>25%</th>\n",
       "      <td>2.119447e+06</td>\n",
       "      <td>1978.000000</td>\n",
       "      <td>1891.000000</td>\n",
       "      <td>1811.000000</td>\n",
       "      <td>1805.000000</td>\n",
       "    </tr>\n",
       "    <tr>\n",
       "      <th>50%</th>\n",
       "      <td>4.500539e+06</td>\n",
       "      <td>1988.000000</td>\n",
       "      <td>1998.000000</td>\n",
       "      <td>1921.000000</td>\n",
       "      <td>1919.000000</td>\n",
       "    </tr>\n",
       "    <tr>\n",
       "      <th>75%</th>\n",
       "      <td>1.360553e+07</td>\n",
       "      <td>1995.000000</td>\n",
       "      <td>2090.000000</td>\n",
       "      <td>2051.000000</td>\n",
       "      <td>2044.000000</td>\n",
       "    </tr>\n",
       "    <tr>\n",
       "      <th>max</th>\n",
       "      <td>7.360114e+07</td>\n",
       "      <td>2010.000000</td>\n",
       "      <td>2675.000000</td>\n",
       "      <td>2646.000000</td>\n",
       "      <td>2736.000000</td>\n",
       "    </tr>\n",
       "  </tbody>\n",
       "</table>\n",
       "</div>"
      ],
      "text/plain": [
       "            Fide id  Year_of_birth  Standard_Rating  Rapid_rating  \\\n",
       "count  8.553000e+03    8261.000000      8553.000000   3608.000000   \n",
       "mean   8.829011e+06    1985.291732      2005.102303   1931.680155   \n",
       "std    9.226777e+06      14.055386       137.146646    191.449272   \n",
       "min    1.001450e+05    1920.000000      1801.000000   1224.000000   \n",
       "25%    2.119447e+06    1978.000000      1891.000000   1811.000000   \n",
       "50%    4.500539e+06    1988.000000      1998.000000   1921.000000   \n",
       "75%    1.360553e+07    1995.000000      2090.000000   2051.000000   \n",
       "max    7.360114e+07    2010.000000      2675.000000   2646.000000   \n",
       "\n",
       "       Blitz_rating  \n",
       "count   3472.000000  \n",
       "mean    1925.155242  \n",
       "std      188.556849  \n",
       "min     1159.000000  \n",
       "25%     1805.000000  \n",
       "50%     1919.000000  \n",
       "75%     2044.000000  \n",
       "max     2736.000000  "
      ]
     },
     "execution_count": 4,
     "metadata": {},
     "output_type": "execute_result"
    }
   ],
   "source": [
    "data.describe()"
   ]
  },
  {
   "cell_type": "code",
   "execution_count": 5,
   "metadata": {},
   "outputs": [
    {
     "data": {
      "text/plain": [
       "(8553, 10)"
      ]
     },
     "execution_count": 5,
     "metadata": {},
     "output_type": "execute_result"
    }
   ],
   "source": [
    "data.shape"
   ]
  },
  {
   "cell_type": "code",
   "execution_count": 6,
   "metadata": {},
   "outputs": [
    {
     "data": {
      "text/plain": [
       "Fide id              int64\n",
       "Name                object\n",
       "Federation          object\n",
       "Gender              object\n",
       "Year_of_birth      float64\n",
       "Title               object\n",
       "Standard_Rating      int64\n",
       "Rapid_rating       float64\n",
       "Blitz_rating       float64\n",
       "Inactive_flag       object\n",
       "dtype: object"
      ]
     },
     "execution_count": 6,
     "metadata": {},
     "output_type": "execute_result"
    }
   ],
   "source": [
    "data.dtypes"
   ]
  },
  {
   "cell_type": "code",
   "execution_count": 7,
   "metadata": {},
   "outputs": [
    {
     "data": {
      "text/plain": [
       "Fide id               0\n",
       "Name                  0\n",
       "Federation            0\n",
       "Gender                0\n",
       "Year_of_birth       292\n",
       "Title              5435\n",
       "Standard_Rating       0\n",
       "Rapid_rating       4945\n",
       "Blitz_rating       5081\n",
       "Inactive_flag      2701\n",
       "dtype: int64"
      ]
     },
     "execution_count": 7,
     "metadata": {},
     "output_type": "execute_result"
    }
   ],
   "source": [
    "data.isnull().sum()"
   ]
  },
  {
   "cell_type": "code",
   "execution_count": 10,
   "metadata": {},
   "outputs": [
    {
     "data": {
      "text/plain": [
       "array(['F'], dtype=object)"
      ]
     },
     "execution_count": 10,
     "metadata": {},
     "output_type": "execute_result"
    }
   ],
   "source": [
    "data.Gender.unique()"
   ]
  },
  {
   "cell_type": "code",
   "execution_count": 11,
   "metadata": {},
   "outputs": [
    {
     "data": {
      "text/plain": [
       "WFM    1545\n",
       "WIM     809\n",
       "WGM     316\n",
       "WCM     247\n",
       "IM      119\n",
       "GM       37\n",
       "FM       36\n",
       "CM        8\n",
       "WH        1\n",
       "Name: Title, dtype: int64"
      ]
     },
     "execution_count": 11,
     "metadata": {},
     "output_type": "execute_result"
    }
   ],
   "source": [
    "data.Title.value_counts()"
   ]
  },
  {
   "cell_type": "code",
   "execution_count": null,
   "metadata": {},
   "outputs": [],
   "source": []
  }
 ],
 "metadata": {
  "kernelspec": {
   "display_name": "Python 3",
   "language": "python",
   "name": "python3"
  },
  "language_info": {
   "codemirror_mode": {
    "name": "ipython",
    "version": 3
   },
   "file_extension": ".py",
   "mimetype": "text/x-python",
   "name": "python",
   "nbconvert_exporter": "python",
   "pygments_lexer": "ipython3",
   "version": "3.7.4"
  }
 },
 "nbformat": 4,
 "nbformat_minor": 2
}
